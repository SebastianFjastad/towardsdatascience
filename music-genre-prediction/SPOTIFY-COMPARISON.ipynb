{
 "cells": [
  {
   "cell_type": "markdown",
   "metadata": {
    "colab_type": "text",
    "id": "Vn1tiakSkepK"
   },
   "source": [
    "# Extract playlist informations from Spotify\n",
    "\n",
    "We will use the features which were extracted with the `spotify_features.ipynb` Notebook. The mentoined Notebook servers a `csv` file which contains the features for 290 songs of the same generes as the ones we used for our own songs."
   ]
  },
  {
   "cell_type": "code",
   "execution_count": 62,
   "metadata": {},
   "outputs": [],
   "source": [
    "import pandas as pd\n",
    "import seaborn as sns\n",
    "import numpy as np\n",
    "from sklearn.preprocessing import LabelEncoder\n",
    "from sklearn.model_selection import train_test_split\n",
    "from sklearn.preprocessing import MinMaxScaler\n",
    "from sklearn.decomposition import PCA\n",
    "from sklearn.svm import SVC\n",
    "from sklearn.metrics import classification_report\n",
    "import matplotlib.pyplot as plt\n",
    "import matplotlib\n",
    "import plotly.express as px\n",
    "plt.style.use('fivethirtyeight')"
   ]
  },
  {
   "cell_type": "code",
   "execution_count": 22,
   "metadata": {},
   "outputs": [],
   "source": [
    "df = pd.read_csv('spotify_features.csv', index_col=[0])"
   ]
  },
  {
   "cell_type": "code",
   "execution_count": 23,
   "metadata": {},
   "outputs": [
    {
     "name": "stdout",
     "output_type": "stream",
     "text": [
      "<class 'pandas.core.frame.DataFrame'>\n",
      "Int64Index: 290 entries, 0 to 59\n",
      "Data columns (total 15 columns):\n",
      " #   Column            Non-Null Count  Dtype  \n",
      "---  ------            --------------  -----  \n",
      " 0   track_name        290 non-null    object \n",
      " 1   artist            290 non-null    object \n",
      " 2   track_id          290 non-null    object \n",
      " 3   track_duration    290 non-null    int64  \n",
      " 4   track_popularity  290 non-null    int64  \n",
      " 5   acousticness      290 non-null    float64\n",
      " 6   danceability      290 non-null    float64\n",
      " 7   energy            290 non-null    float64\n",
      " 8   instrumentalness  290 non-null    float64\n",
      " 9   liveness          290 non-null    float64\n",
      " 10  loudness          290 non-null    float64\n",
      " 11  speechiness       290 non-null    float64\n",
      " 12  tempo             290 non-null    float64\n",
      " 13  valence           290 non-null    float64\n",
      " 14  genre             290 non-null    int64  \n",
      "dtypes: float64(9), int64(3), object(3)\n",
      "memory usage: 36.2+ KB\n"
     ]
    }
   ],
   "source": [
    "df.info()"
   ]
  },
  {
   "cell_type": "markdown",
   "metadata": {},
   "source": [
    "## Preprocess Data\n",
    "\n",
    "Same approach / pipeline as in the `feature_analyze.ipynb` for my own created features."
   ]
  },
  {
   "cell_type": "code",
   "execution_count": 24,
   "metadata": {},
   "outputs": [
    {
     "data": {
      "text/plain": [
       "Index(['track_name', 'artist', 'track_id', 'track_duration',\n",
       "       'track_popularity', 'acousticness', 'danceability', 'energy',\n",
       "       'instrumentalness', 'liveness', 'loudness', 'speechiness', 'tempo',\n",
       "       'valence', 'genre'],\n",
       "      dtype='object')"
      ]
     },
     "execution_count": 24,
     "metadata": {},
     "output_type": "execute_result"
    }
   ],
   "source": [
    "df.columns"
   ]
  },
  {
   "cell_type": "markdown",
   "metadata": {},
   "source": [
    "The Genre column is encoded like this:\n",
    "\n",
    "```python\n",
    "hardstyle['genre'] = 0\n",
    "classic['genre'] = 1\n",
    "punk['genre'] = 2\n",
    "house['genre'] = 3\n",
    "```"
   ]
  },
  {
   "cell_type": "code",
   "execution_count": 25,
   "metadata": {},
   "outputs": [
    {
     "data": {
      "text/html": [
       "<div>\n",
       "<style scoped>\n",
       "    .dataframe tbody tr th:only-of-type {\n",
       "        vertical-align: middle;\n",
       "    }\n",
       "\n",
       "    .dataframe tbody tr th {\n",
       "        vertical-align: top;\n",
       "    }\n",
       "\n",
       "    .dataframe thead th {\n",
       "        text-align: right;\n",
       "    }\n",
       "</style>\n",
       "<table border=\"1\" class=\"dataframe\">\n",
       "  <thead>\n",
       "    <tr style=\"text-align: right;\">\n",
       "      <th></th>\n",
       "      <th>track_name</th>\n",
       "      <th>artist</th>\n",
       "      <th>track_id</th>\n",
       "      <th>track_duration</th>\n",
       "      <th>track_popularity</th>\n",
       "      <th>acousticness</th>\n",
       "      <th>danceability</th>\n",
       "      <th>energy</th>\n",
       "      <th>instrumentalness</th>\n",
       "      <th>liveness</th>\n",
       "      <th>loudness</th>\n",
       "      <th>speechiness</th>\n",
       "      <th>tempo</th>\n",
       "      <th>valence</th>\n",
       "      <th>genre</th>\n",
       "    </tr>\n",
       "  </thead>\n",
       "  <tbody>\n",
       "    <tr>\n",
       "      <th>0</th>\n",
       "      <td>My Beautiful Fantasy</td>\n",
       "      <td>Phuture Noize</td>\n",
       "      <td>1a3M9MU7mmhQerLzHSGD3w</td>\n",
       "      <td>192014</td>\n",
       "      <td>54</td>\n",
       "      <td>0.13200</td>\n",
       "      <td>0.319</td>\n",
       "      <td>0.865</td>\n",
       "      <td>0.00000</td>\n",
       "      <td>0.1520</td>\n",
       "      <td>-2.528</td>\n",
       "      <td>0.0415</td>\n",
       "      <td>155.174</td>\n",
       "      <td>0.0845</td>\n",
       "      <td>0</td>\n",
       "    </tr>\n",
       "    <tr>\n",
       "      <th>1</th>\n",
       "      <td>Primal Energy (Defqon.1 2020 Anthem)</td>\n",
       "      <td>D-Block &amp; S-te-Fan</td>\n",
       "      <td>3ppJijBGMSBnz45elmwh5V</td>\n",
       "      <td>316800</td>\n",
       "      <td>62</td>\n",
       "      <td>0.02510</td>\n",
       "      <td>0.297</td>\n",
       "      <td>0.935</td>\n",
       "      <td>0.00001</td>\n",
       "      <td>0.1570</td>\n",
       "      <td>-2.188</td>\n",
       "      <td>0.0758</td>\n",
       "      <td>112.603</td>\n",
       "      <td>0.1470</td>\n",
       "      <td>0</td>\n",
       "    </tr>\n",
       "    <tr>\n",
       "      <th>2</th>\n",
       "      <td>Mellow</td>\n",
       "      <td>Showtek</td>\n",
       "      <td>6AQpd05OyowTvtO7I3BdBU</td>\n",
       "      <td>169839</td>\n",
       "      <td>50</td>\n",
       "      <td>0.04500</td>\n",
       "      <td>0.565</td>\n",
       "      <td>0.873</td>\n",
       "      <td>0.08980</td>\n",
       "      <td>0.0898</td>\n",
       "      <td>-2.973</td>\n",
       "      <td>0.0398</td>\n",
       "      <td>149.995</td>\n",
       "      <td>0.4100</td>\n",
       "      <td>0</td>\n",
       "    </tr>\n",
       "    <tr>\n",
       "      <th>3</th>\n",
       "      <td>Danse Macabre - Kan Takahiko Remix</td>\n",
       "      <td>Naeleck</td>\n",
       "      <td>3tvFbMS6E3mk6KY3hJn3Ht</td>\n",
       "      <td>267200</td>\n",
       "      <td>43</td>\n",
       "      <td>0.00678</td>\n",
       "      <td>0.635</td>\n",
       "      <td>0.933</td>\n",
       "      <td>0.02360</td>\n",
       "      <td>0.3430</td>\n",
       "      <td>-4.264</td>\n",
       "      <td>0.2210</td>\n",
       "      <td>150.060</td>\n",
       "      <td>0.1510</td>\n",
       "      <td>0</td>\n",
       "    </tr>\n",
       "    <tr>\n",
       "      <th>4</th>\n",
       "      <td>Feel It!</td>\n",
       "      <td>D-Block &amp; S-te-Fan</td>\n",
       "      <td>01xdiGuSuIf5qZulm1uqkY</td>\n",
       "      <td>236903</td>\n",
       "      <td>61</td>\n",
       "      <td>0.01910</td>\n",
       "      <td>0.459</td>\n",
       "      <td>0.941</td>\n",
       "      <td>0.00000</td>\n",
       "      <td>0.3710</td>\n",
       "      <td>-2.053</td>\n",
       "      <td>0.0777</td>\n",
       "      <td>155.023</td>\n",
       "      <td>0.3990</td>\n",
       "      <td>0</td>\n",
       "    </tr>\n",
       "  </tbody>\n",
       "</table>\n",
       "</div>"
      ],
      "text/plain": [
       "                             track_name              artist  \\\n",
       "0                  My Beautiful Fantasy       Phuture Noize   \n",
       "1  Primal Energy (Defqon.1 2020 Anthem)  D-Block & S-te-Fan   \n",
       "2                                Mellow             Showtek   \n",
       "3    Danse Macabre - Kan Takahiko Remix             Naeleck   \n",
       "4                              Feel It!  D-Block & S-te-Fan   \n",
       "\n",
       "                 track_id  track_duration  track_popularity  acousticness  \\\n",
       "0  1a3M9MU7mmhQerLzHSGD3w          192014                54       0.13200   \n",
       "1  3ppJijBGMSBnz45elmwh5V          316800                62       0.02510   \n",
       "2  6AQpd05OyowTvtO7I3BdBU          169839                50       0.04500   \n",
       "3  3tvFbMS6E3mk6KY3hJn3Ht          267200                43       0.00678   \n",
       "4  01xdiGuSuIf5qZulm1uqkY          236903                61       0.01910   \n",
       "\n",
       "   danceability  energy  instrumentalness  liveness  loudness  speechiness  \\\n",
       "0         0.319   0.865           0.00000    0.1520    -2.528       0.0415   \n",
       "1         0.297   0.935           0.00001    0.1570    -2.188       0.0758   \n",
       "2         0.565   0.873           0.08980    0.0898    -2.973       0.0398   \n",
       "3         0.635   0.933           0.02360    0.3430    -4.264       0.2210   \n",
       "4         0.459   0.941           0.00000    0.3710    -2.053       0.0777   \n",
       "\n",
       "     tempo  valence  genre  \n",
       "0  155.174   0.0845      0  \n",
       "1  112.603   0.1470      0  \n",
       "2  149.995   0.4100      0  \n",
       "3  150.060   0.1510      0  \n",
       "4  155.023   0.3990      0  "
      ]
     },
     "execution_count": 25,
     "metadata": {},
     "output_type": "execute_result"
    }
   ],
   "source": [
    "df.head()"
   ]
  },
  {
   "cell_type": "code",
   "execution_count": 30,
   "metadata": {},
   "outputs": [],
   "source": [
    "def encode_labels(x):\n",
    "    if x == 0:\n",
    "        return 'hardstyle'\n",
    "    elif x == 1:\n",
    "        return 'classic'\n",
    "    elif x == 2:\n",
    "        return 'punk'\n",
    "    elif x == 3:\n",
    "        return 'house'"
   ]
  },
  {
   "cell_type": "code",
   "execution_count": 31,
   "metadata": {},
   "outputs": [],
   "source": [
    "df['genre_name'] = df.genre.apply(lambda x: encode_labels(x))"
   ]
  },
  {
   "cell_type": "code",
   "execution_count": 36,
   "metadata": {},
   "outputs": [
    {
     "data": {
      "text/plain": [
       "punk         150\n",
       "house         60\n",
       "hardstyle     50\n",
       "classic       30\n",
       "Name: genre_name, dtype: int64"
      ]
     },
     "execution_count": 36,
     "metadata": {},
     "output_type": "execute_result"
    }
   ],
   "source": [
    "df.genre_name.value_counts()"
   ]
  },
  {
   "cell_type": "code",
   "execution_count": 39,
   "metadata": {},
   "outputs": [],
   "source": [
    "X = df[['acousticness', 'danceability', 'energy', 'instrumentalness',\n",
    "        'liveness', 'loudness', 'speechiness', 'tempo', 'valence']]\n",
    "y = df.genre"
   ]
  },
  {
   "cell_type": "markdown",
   "metadata": {},
   "source": [
    "**Scale Data:**"
   ]
  },
  {
   "cell_type": "code",
   "execution_count": 40,
   "metadata": {},
   "outputs": [],
   "source": [
    "scaler = MinMaxScaler()"
   ]
  },
  {
   "cell_type": "code",
   "execution_count": 41,
   "metadata": {},
   "outputs": [],
   "source": [
    "X_scaled = pd.DataFrame(scaler.fit_transform(X), columns=X.columns)\n",
    "X_scaled.index = X.index"
   ]
  },
  {
   "cell_type": "code",
   "execution_count": 42,
   "metadata": {},
   "outputs": [
    {
     "data": {
      "text/html": [
       "<div>\n",
       "<style scoped>\n",
       "    .dataframe tbody tr th:only-of-type {\n",
       "        vertical-align: middle;\n",
       "    }\n",
       "\n",
       "    .dataframe tbody tr th {\n",
       "        vertical-align: top;\n",
       "    }\n",
       "\n",
       "    .dataframe thead th {\n",
       "        text-align: right;\n",
       "    }\n",
       "</style>\n",
       "<table border=\"1\" class=\"dataframe\">\n",
       "  <thead>\n",
       "    <tr style=\"text-align: right;\">\n",
       "      <th></th>\n",
       "      <th>acousticness</th>\n",
       "      <th>danceability</th>\n",
       "      <th>energy</th>\n",
       "      <th>instrumentalness</th>\n",
       "      <th>liveness</th>\n",
       "      <th>loudness</th>\n",
       "      <th>speechiness</th>\n",
       "      <th>tempo</th>\n",
       "      <th>valence</th>\n",
       "    </tr>\n",
       "  </thead>\n",
       "  <tbody>\n",
       "    <tr>\n",
       "      <th>0</th>\n",
       "      <td>0.132528</td>\n",
       "      <td>0.295144</td>\n",
       "      <td>0.866452</td>\n",
       "      <td>0.000000</td>\n",
       "      <td>0.145258</td>\n",
       "      <td>0.973093</td>\n",
       "      <td>0.035899</td>\n",
       "      <td>0.668089</td>\n",
       "      <td>0.055801</td>\n",
       "    </tr>\n",
       "    <tr>\n",
       "      <th>1</th>\n",
       "      <td>0.025199</td>\n",
       "      <td>0.268499</td>\n",
       "      <td>0.936741</td>\n",
       "      <td>0.000011</td>\n",
       "      <td>0.151261</td>\n",
       "      <td>0.981683</td>\n",
       "      <td>0.129181</td>\n",
       "      <td>0.354894</td>\n",
       "      <td>0.123128</td>\n",
       "    </tr>\n",
       "    <tr>\n",
       "      <th>2</th>\n",
       "      <td>0.045179</td>\n",
       "      <td>0.593073</td>\n",
       "      <td>0.874485</td>\n",
       "      <td>0.094826</td>\n",
       "      <td>0.070588</td>\n",
       "      <td>0.961850</td>\n",
       "      <td>0.031275</td>\n",
       "      <td>0.629987</td>\n",
       "      <td>0.406442</td>\n",
       "    </tr>\n",
       "    <tr>\n",
       "      <th>3</th>\n",
       "      <td>0.006805</td>\n",
       "      <td>0.677849</td>\n",
       "      <td>0.934732</td>\n",
       "      <td>0.024921</td>\n",
       "      <td>0.374550</td>\n",
       "      <td>0.929234</td>\n",
       "      <td>0.524069</td>\n",
       "      <td>0.630465</td>\n",
       "      <td>0.127437</td>\n",
       "    </tr>\n",
       "    <tr>\n",
       "      <th>4</th>\n",
       "      <td>0.019175</td>\n",
       "      <td>0.464697</td>\n",
       "      <td>0.942765</td>\n",
       "      <td>0.000000</td>\n",
       "      <td>0.408163</td>\n",
       "      <td>0.985094</td>\n",
       "      <td>0.134349</td>\n",
       "      <td>0.666978</td>\n",
       "      <td>0.394592</td>\n",
       "    </tr>\n",
       "    <tr>\n",
       "      <th>...</th>\n",
       "      <td>...</td>\n",
       "      <td>...</td>\n",
       "      <td>...</td>\n",
       "      <td>...</td>\n",
       "      <td>...</td>\n",
       "      <td>...</td>\n",
       "      <td>...</td>\n",
       "      <td>...</td>\n",
       "      <td>...</td>\n",
       "    </tr>\n",
       "    <tr>\n",
       "      <th>55</th>\n",
       "      <td>0.018371</td>\n",
       "      <td>0.751726</td>\n",
       "      <td>0.836329</td>\n",
       "      <td>0.000020</td>\n",
       "      <td>0.073950</td>\n",
       "      <td>0.928274</td>\n",
       "      <td>0.009247</td>\n",
       "      <td>0.424160</td>\n",
       "      <td>0.758699</td>\n",
       "    </tr>\n",
       "    <tr>\n",
       "      <th>56</th>\n",
       "      <td>0.009506</td>\n",
       "      <td>0.689960</td>\n",
       "      <td>0.850387</td>\n",
       "      <td>0.000000</td>\n",
       "      <td>0.833133</td>\n",
       "      <td>0.947374</td>\n",
       "      <td>0.051945</td>\n",
       "      <td>0.424227</td>\n",
       "      <td>0.340730</td>\n",
       "    </tr>\n",
       "    <tr>\n",
       "      <th>57</th>\n",
       "      <td>0.004426</td>\n",
       "      <td>0.716604</td>\n",
       "      <td>0.875490</td>\n",
       "      <td>0.000660</td>\n",
       "      <td>0.052461</td>\n",
       "      <td>0.930800</td>\n",
       "      <td>0.063095</td>\n",
       "      <td>0.438727</td>\n",
       "      <td>0.513088</td>\n",
       "    </tr>\n",
       "    <tr>\n",
       "      <th>58</th>\n",
       "      <td>0.006675</td>\n",
       "      <td>0.761415</td>\n",
       "      <td>0.832312</td>\n",
       "      <td>0.026822</td>\n",
       "      <td>0.180072</td>\n",
       "      <td>0.908517</td>\n",
       "      <td>0.022301</td>\n",
       "      <td>0.438683</td>\n",
       "      <td>0.659593</td>\n",
       "    </tr>\n",
       "    <tr>\n",
       "      <th>59</th>\n",
       "      <td>0.007819</td>\n",
       "      <td>0.905535</td>\n",
       "      <td>0.910634</td>\n",
       "      <td>0.042978</td>\n",
       "      <td>0.114046</td>\n",
       "      <td>0.923069</td>\n",
       "      <td>0.095730</td>\n",
       "      <td>0.438926</td>\n",
       "      <td>0.812561</td>\n",
       "    </tr>\n",
       "  </tbody>\n",
       "</table>\n",
       "<p>290 rows × 9 columns</p>\n",
       "</div>"
      ],
      "text/plain": [
       "    acousticness  danceability    energy  instrumentalness  liveness  \\\n",
       "0       0.132528      0.295144  0.866452          0.000000  0.145258   \n",
       "1       0.025199      0.268499  0.936741          0.000011  0.151261   \n",
       "2       0.045179      0.593073  0.874485          0.094826  0.070588   \n",
       "3       0.006805      0.677849  0.934732          0.024921  0.374550   \n",
       "4       0.019175      0.464697  0.942765          0.000000  0.408163   \n",
       "..           ...           ...       ...               ...       ...   \n",
       "55      0.018371      0.751726  0.836329          0.000020  0.073950   \n",
       "56      0.009506      0.689960  0.850387          0.000000  0.833133   \n",
       "57      0.004426      0.716604  0.875490          0.000660  0.052461   \n",
       "58      0.006675      0.761415  0.832312          0.026822  0.180072   \n",
       "59      0.007819      0.905535  0.910634          0.042978  0.114046   \n",
       "\n",
       "    loudness  speechiness     tempo   valence  \n",
       "0   0.973093     0.035899  0.668089  0.055801  \n",
       "1   0.981683     0.129181  0.354894  0.123128  \n",
       "2   0.961850     0.031275  0.629987  0.406442  \n",
       "3   0.929234     0.524069  0.630465  0.127437  \n",
       "4   0.985094     0.134349  0.666978  0.394592  \n",
       "..       ...          ...       ...       ...  \n",
       "55  0.928274     0.009247  0.424160  0.758699  \n",
       "56  0.947374     0.051945  0.424227  0.340730  \n",
       "57  0.930800     0.063095  0.438727  0.513088  \n",
       "58  0.908517     0.022301  0.438683  0.659593  \n",
       "59  0.923069     0.095730  0.438926  0.812561  \n",
       "\n",
       "[290 rows x 9 columns]"
      ]
     },
     "execution_count": 42,
     "metadata": {},
     "output_type": "execute_result"
    }
   ],
   "source": [
    "X_scaled"
   ]
  },
  {
   "cell_type": "markdown",
   "metadata": {},
   "source": [
    "**PCA:**"
   ]
  },
  {
   "cell_type": "code",
   "execution_count": 43,
   "metadata": {},
   "outputs": [],
   "source": [
    "pca = PCA(n_components=6)\n",
    "principalComponents = pca.fit_transform(X_scaled)\n",
    "principalDf = pd.DataFrame(data = principalComponents, columns = ['pc1', 'pc2', 'pc3', 'pc4', 'pc5', 'pc6'])"
   ]
  },
  {
   "cell_type": "code",
   "execution_count": 44,
   "metadata": {},
   "outputs": [
    {
     "data": {
      "text/html": [
       "<div>\n",
       "<style scoped>\n",
       "    .dataframe tbody tr th:only-of-type {\n",
       "        vertical-align: middle;\n",
       "    }\n",
       "\n",
       "    .dataframe tbody tr th {\n",
       "        vertical-align: top;\n",
       "    }\n",
       "\n",
       "    .dataframe thead th {\n",
       "        text-align: right;\n",
       "    }\n",
       "</style>\n",
       "<table border=\"1\" class=\"dataframe\">\n",
       "  <thead>\n",
       "    <tr style=\"text-align: right;\">\n",
       "      <th></th>\n",
       "      <th>pc1</th>\n",
       "      <th>pc2</th>\n",
       "      <th>pc3</th>\n",
       "      <th>pc4</th>\n",
       "      <th>pc5</th>\n",
       "      <th>pc6</th>\n",
       "    </tr>\n",
       "  </thead>\n",
       "  <tbody>\n",
       "    <tr>\n",
       "      <th>0</th>\n",
       "      <td>0.035909</td>\n",
       "      <td>0.420033</td>\n",
       "      <td>-0.120479</td>\n",
       "      <td>-0.194235</td>\n",
       "      <td>-0.102860</td>\n",
       "      <td>0.010043</td>\n",
       "    </tr>\n",
       "    <tr>\n",
       "      <th>1</th>\n",
       "      <td>-0.030589</td>\n",
       "      <td>0.252803</td>\n",
       "      <td>-0.289744</td>\n",
       "      <td>-0.182593</td>\n",
       "      <td>-0.063978</td>\n",
       "      <td>0.246718</td>\n",
       "    </tr>\n",
       "    <tr>\n",
       "      <th>2</th>\n",
       "      <td>-0.116359</td>\n",
       "      <td>0.050749</td>\n",
       "      <td>0.006018</td>\n",
       "      <td>-0.011204</td>\n",
       "      <td>-0.211703</td>\n",
       "      <td>-0.074675</td>\n",
       "    </tr>\n",
       "    <tr>\n",
       "      <th>3</th>\n",
       "      <td>-0.172219</td>\n",
       "      <td>0.371786</td>\n",
       "      <td>-0.286231</td>\n",
       "      <td>0.160251</td>\n",
       "      <td>-0.022806</td>\n",
       "      <td>-0.108896</td>\n",
       "    </tr>\n",
       "    <tr>\n",
       "      <th>4</th>\n",
       "      <td>-0.233005</td>\n",
       "      <td>0.204966</td>\n",
       "      <td>-0.044161</td>\n",
       "      <td>0.014417</td>\n",
       "      <td>0.126555</td>\n",
       "      <td>-0.059483</td>\n",
       "    </tr>\n",
       "  </tbody>\n",
       "</table>\n",
       "</div>"
      ],
      "text/plain": [
       "        pc1       pc2       pc3       pc4       pc5       pc6\n",
       "0  0.035909  0.420033 -0.120479 -0.194235 -0.102860  0.010043\n",
       "1 -0.030589  0.252803 -0.289744 -0.182593 -0.063978  0.246718\n",
       "2 -0.116359  0.050749  0.006018 -0.011204 -0.211703 -0.074675\n",
       "3 -0.172219  0.371786 -0.286231  0.160251 -0.022806 -0.108896\n",
       "4 -0.233005  0.204966 -0.044161  0.014417  0.126555 -0.059483"
      ]
     },
     "execution_count": 44,
     "metadata": {},
     "output_type": "execute_result"
    }
   ],
   "source": [
    "principalDf.head()"
   ]
  },
  {
   "cell_type": "code",
   "execution_count": 46,
   "metadata": {},
   "outputs": [
    {
     "data": {
      "text/html": [
       "<div>\n",
       "<style scoped>\n",
       "    .dataframe tbody tr th:only-of-type {\n",
       "        vertical-align: middle;\n",
       "    }\n",
       "\n",
       "    .dataframe tbody tr th {\n",
       "        vertical-align: top;\n",
       "    }\n",
       "\n",
       "    .dataframe thead th {\n",
       "        text-align: right;\n",
       "    }\n",
       "</style>\n",
       "<table border=\"1\" class=\"dataframe\">\n",
       "  <thead>\n",
       "    <tr style=\"text-align: right;\">\n",
       "      <th></th>\n",
       "      <th>pc1</th>\n",
       "      <th>pc2</th>\n",
       "      <th>pc3</th>\n",
       "      <th>pc4</th>\n",
       "      <th>pc5</th>\n",
       "      <th>pc6</th>\n",
       "      <th>target</th>\n",
       "      <th>target_name</th>\n",
       "    </tr>\n",
       "  </thead>\n",
       "  <tbody>\n",
       "    <tr>\n",
       "      <th>0</th>\n",
       "      <td>0.035909</td>\n",
       "      <td>0.420033</td>\n",
       "      <td>-0.120479</td>\n",
       "      <td>-0.194235</td>\n",
       "      <td>-0.102860</td>\n",
       "      <td>0.010043</td>\n",
       "      <td>0</td>\n",
       "      <td>hardstyle</td>\n",
       "    </tr>\n",
       "    <tr>\n",
       "      <th>1</th>\n",
       "      <td>-0.030589</td>\n",
       "      <td>0.252803</td>\n",
       "      <td>-0.289744</td>\n",
       "      <td>-0.182593</td>\n",
       "      <td>-0.063978</td>\n",
       "      <td>0.246718</td>\n",
       "      <td>0</td>\n",
       "      <td>hardstyle</td>\n",
       "    </tr>\n",
       "    <tr>\n",
       "      <th>2</th>\n",
       "      <td>-0.116359</td>\n",
       "      <td>0.050749</td>\n",
       "      <td>0.006018</td>\n",
       "      <td>-0.011204</td>\n",
       "      <td>-0.211703</td>\n",
       "      <td>-0.074675</td>\n",
       "      <td>0</td>\n",
       "      <td>hardstyle</td>\n",
       "    </tr>\n",
       "    <tr>\n",
       "      <th>3</th>\n",
       "      <td>-0.172219</td>\n",
       "      <td>0.371786</td>\n",
       "      <td>-0.286231</td>\n",
       "      <td>0.160251</td>\n",
       "      <td>-0.022806</td>\n",
       "      <td>-0.108896</td>\n",
       "      <td>0</td>\n",
       "      <td>hardstyle</td>\n",
       "    </tr>\n",
       "    <tr>\n",
       "      <th>4</th>\n",
       "      <td>-0.233005</td>\n",
       "      <td>0.204966</td>\n",
       "      <td>-0.044161</td>\n",
       "      <td>0.014417</td>\n",
       "      <td>0.126555</td>\n",
       "      <td>-0.059483</td>\n",
       "      <td>0</td>\n",
       "      <td>hardstyle</td>\n",
       "    </tr>\n",
       "    <tr>\n",
       "      <th>...</th>\n",
       "      <td>...</td>\n",
       "      <td>...</td>\n",
       "      <td>...</td>\n",
       "      <td>...</td>\n",
       "      <td>...</td>\n",
       "      <td>...</td>\n",
       "      <td>...</td>\n",
       "      <td>...</td>\n",
       "    </tr>\n",
       "    <tr>\n",
       "      <th>285</th>\n",
       "      <td>-0.262069</td>\n",
       "      <td>-0.360368</td>\n",
       "      <td>0.021421</td>\n",
       "      <td>-0.054544</td>\n",
       "      <td>-0.158218</td>\n",
       "      <td>-0.094124</td>\n",
       "      <td>3</td>\n",
       "      <td>house</td>\n",
       "    </tr>\n",
       "    <tr>\n",
       "      <th>286</th>\n",
       "      <td>-0.202538</td>\n",
       "      <td>0.026835</td>\n",
       "      <td>-0.387818</td>\n",
       "      <td>0.172090</td>\n",
       "      <td>0.438438</td>\n",
       "      <td>-0.244160</td>\n",
       "      <td>3</td>\n",
       "      <td>house</td>\n",
       "    </tr>\n",
       "    <tr>\n",
       "      <th>287</th>\n",
       "      <td>-0.204742</td>\n",
       "      <td>-0.158070</td>\n",
       "      <td>-0.108406</td>\n",
       "      <td>-0.050899</td>\n",
       "      <td>-0.223945</td>\n",
       "      <td>-0.063611</td>\n",
       "      <td>3</td>\n",
       "      <td>house</td>\n",
       "    </tr>\n",
       "    <tr>\n",
       "      <th>288</th>\n",
       "      <td>-0.228935</td>\n",
       "      <td>-0.279412</td>\n",
       "      <td>-0.050159</td>\n",
       "      <td>0.006564</td>\n",
       "      <td>-0.092647</td>\n",
       "      <td>-0.131339</td>\n",
       "      <td>3</td>\n",
       "      <td>house</td>\n",
       "    </tr>\n",
       "    <tr>\n",
       "      <th>289</th>\n",
       "      <td>-0.335140</td>\n",
       "      <td>-0.409874</td>\n",
       "      <td>0.011622</td>\n",
       "      <td>0.085723</td>\n",
       "      <td>-0.172592</td>\n",
       "      <td>-0.143074</td>\n",
       "      <td>3</td>\n",
       "      <td>house</td>\n",
       "    </tr>\n",
       "  </tbody>\n",
       "</table>\n",
       "<p>290 rows × 8 columns</p>\n",
       "</div>"
      ],
      "text/plain": [
       "          pc1       pc2       pc3       pc4       pc5       pc6  target  \\\n",
       "0    0.035909  0.420033 -0.120479 -0.194235 -0.102860  0.010043       0   \n",
       "1   -0.030589  0.252803 -0.289744 -0.182593 -0.063978  0.246718       0   \n",
       "2   -0.116359  0.050749  0.006018 -0.011204 -0.211703 -0.074675       0   \n",
       "3   -0.172219  0.371786 -0.286231  0.160251 -0.022806 -0.108896       0   \n",
       "4   -0.233005  0.204966 -0.044161  0.014417  0.126555 -0.059483       0   \n",
       "..        ...       ...       ...       ...       ...       ...     ...   \n",
       "285 -0.262069 -0.360368  0.021421 -0.054544 -0.158218 -0.094124       3   \n",
       "286 -0.202538  0.026835 -0.387818  0.172090  0.438438 -0.244160       3   \n",
       "287 -0.204742 -0.158070 -0.108406 -0.050899 -0.223945 -0.063611       3   \n",
       "288 -0.228935 -0.279412 -0.050159  0.006564 -0.092647 -0.131339       3   \n",
       "289 -0.335140 -0.409874  0.011622  0.085723 -0.172592 -0.143074       3   \n",
       "\n",
       "    target_name  \n",
       "0     hardstyle  \n",
       "1     hardstyle  \n",
       "2     hardstyle  \n",
       "3     hardstyle  \n",
       "4     hardstyle  \n",
       "..          ...  \n",
       "285       house  \n",
       "286       house  \n",
       "287       house  \n",
       "288       house  \n",
       "289       house  \n",
       "\n",
       "[290 rows x 8 columns]"
      ]
     },
     "execution_count": 46,
     "metadata": {},
     "output_type": "execute_result"
    }
   ],
   "source": [
    "principalDf['target'] = df.genre.values\n",
    "principalDf['target_name'] = df.genre_name.values\n",
    "principalDf"
   ]
  },
  {
   "cell_type": "code",
   "execution_count": 63,
   "metadata": {},
   "outputs": [
    {
     "data": {
      "text/plain": [
       "<AxesSubplot:>"
      ]
     },
     "execution_count": 63,
     "metadata": {},
     "output_type": "execute_result"
    },
    {
     "data": {
      "image/png": "[encoded data removed]",
      "text/plain": [
       "<Figure size 432x288 with 1 Axes>"
      ]
     },
     "metadata": {},
     "output_type": "display_data"
    }
   ],
   "source": [
    "sns.barplot(x=principalDf.columns[:-2], y= pca.explained_variance_ratio_)"
   ]
  },
  {
   "cell_type": "markdown",
   "metadata": {},
   "source": [
    "Ratio of explained variance is similar to the PCA with *our* song data."
   ]
  },
  {
   "cell_type": "code",
   "execution_count": 52,
   "metadata": {},
   "outputs": [],
   "source": [
    "fig = px.scatter_3d(principalDf, x='pc1', y='pc2', z='pc3', color='target_name', title='PCA - Spotify')\n",
    "fig.write_html(\"plots/spotify_pca_scatter.html\")"
   ]
  },
  {
   "cell_type": "markdown",
   "metadata": {},
   "source": [
    "The first glance gives the impression that with the spotify parameters it is much easier to distinguish between *classic* or *not classic* but the other three genres are much closer than before. Anyways, as we just plot the first three PC's it is possible that in a higher dimensional room the genres are easier to separate."
   ]
  },
  {
   "cell_type": "markdown",
   "metadata": {},
   "source": [
    "## Machine Learning with SVM"
   ]
  },
  {
   "cell_type": "code",
   "execution_count": 55,
   "metadata": {},
   "outputs": [],
   "source": [
    "X_train, X_test, y_train, y_test = train_test_split(X_scaled, y, test_size=0.33,\n",
    "                                                    stratify=y ,random_state=7)"
   ]
  },
  {
   "cell_type": "code",
   "execution_count": 56,
   "metadata": {},
   "outputs": [
    {
     "data": {
      "text/plain": [
       "2    0.515464\n",
       "3    0.206186\n",
       "0    0.175258\n",
       "1    0.103093\n",
       "Name: genre, dtype: float64"
      ]
     },
     "execution_count": 56,
     "metadata": {},
     "output_type": "execute_result"
    }
   ],
   "source": [
    "y_train.value_counts() / len(y_train)"
   ]
  },
  {
   "cell_type": "code",
   "execution_count": 57,
   "metadata": {},
   "outputs": [
    {
     "data": {
      "text/plain": [
       "2    0.520833\n",
       "3    0.208333\n",
       "0    0.166667\n",
       "1    0.104167\n",
       "Name: genre, dtype: float64"
      ]
     },
     "execution_count": 57,
     "metadata": {},
     "output_type": "execute_result"
    }
   ],
   "source": [
    "y_test.value_counts() / len(y_test)"
   ]
  },
  {
   "cell_type": "code",
   "execution_count": 58,
   "metadata": {},
   "outputs": [
    {
     "data": {
      "text/plain": [
       "SVC(gamma='auto')"
      ]
     },
     "execution_count": 58,
     "metadata": {},
     "output_type": "execute_result"
    }
   ],
   "source": [
    "clf_svm = SVC(gamma='auto')\n",
    "clf_svm.fit(X_train, y_train)"
   ]
  },
  {
   "cell_type": "code",
   "execution_count": 59,
   "metadata": {},
   "outputs": [],
   "source": [
    "svm_preds = clf_svm.predict(X_test)"
   ]
  },
  {
   "cell_type": "code",
   "execution_count": 60,
   "metadata": {},
   "outputs": [
    {
     "name": "stdout",
     "output_type": "stream",
     "text": [
      "              precision    recall  f1-score   support\n",
      "\n",
      "           0       1.00      0.06      0.12        16\n",
      "           1       1.00      1.00      1.00        10\n",
      "           2       0.60      1.00      0.75        50\n",
      "           3       1.00      0.05      0.10        20\n",
      "\n",
      "    accuracy                           0.65        96\n",
      "   macro avg       0.90      0.53      0.49        96\n",
      "weighted avg       0.79      0.65      0.53        96\n",
      "\n"
     ]
    }
   ],
   "source": [
    "print(classification_report(y_test, svm_preds))"
   ]
  },
  {
   "cell_type": "markdown",
   "metadata": {},
   "source": [
    "**SVM with first four PCAs**"
   ]
  },
  {
   "cell_type": "code",
   "execution_count": 64,
   "metadata": {},
   "outputs": [
    {
     "data": {
      "image/png": "[encoded data removed]",
      "text/plain": [
       "<Figure size 432x288 with 2 Axes>"
      ]
     },
     "metadata": {},
     "output_type": "display_data"
    }
   ],
   "source": [
    "from sklearn.metrics import plot_confusion_matrix\n",
    "from sklearn.metrics import confusion_matrix\n",
    "\n",
    "class_names = ['hardsytle', 'classic', 'punk', 'house']\n",
    "\n",
    "cnf_matrix = confusion_matrix(y_test, svm_preds)\n",
    "disp = plot_confusion_matrix(clf_svm, X_test, y_test,\n",
    "                                 display_labels=class_names,\n",
    "                                 cmap=plt.cm.Blues)\n",
    "plt.savefig('./plots/spotify_confusion_matrix.png')\n",
    "plt.show()"
   ]
  },
  {
   "cell_type": "markdown",
   "metadata": {},
   "source": [
    "## Result\n",
    "\n",
    "As expected by looking at the PCA plot the accuracy is lower than with out generated features! Here we only achieve 65% (68% with PCA data) compared to 95% with our features!\n",
    "\n",
    "To be fair, we had 27 features and spotify only provides 9. \n",
    "\n",
    "Anyways, this is a great success and we outperformt SPOTIFYYYYYYYYYYYYY :-)"
   ]
  },
  {
   "cell_type": "code",
   "execution_count": null,
   "metadata": {},
   "outputs": [],
   "source": []
  }
 ],
 "metadata": {
  "colab": {
   "authorship_tag": "ABX9TyPTHinOEUhodDdDZNw4gh7h",
   "collapsed_sections": [
    "dgZo3DD5xHuX"
   ],
   "name": "spotify_data_extract.ipynb",
   "provenance": []
  },
  "kernelspec": {
   "display_name": "Python 3",
   "language": "python",
   "name": "python3"
  },
  "language_info": {
   "codemirror_mode": {
    "name": "ipython",
    "version": 3
   },
   "file_extension": ".py",
   "mimetype": "text/x-python",
   "name": "python",
   "nbconvert_exporter": "python",
   "pygments_lexer": "ipython3",
   "version": "3.7.9"
  }
 },
 "nbformat": 4,
 "nbformat_minor": 4
}
