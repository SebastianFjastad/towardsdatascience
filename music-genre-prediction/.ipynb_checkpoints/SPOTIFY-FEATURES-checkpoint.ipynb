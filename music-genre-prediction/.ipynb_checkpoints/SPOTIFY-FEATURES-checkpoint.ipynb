{
 "cells": [
  {
   "cell_type": "code",
   "execution_count": 1,
   "metadata": {},
   "outputs": [],
   "source": [
    "import json\n",
    "import pprint\n",
    "pp = pprint.PrettyPrinter(indent=4)\n",
    "\n",
    "import pandas as pd\n",
    "\n",
    "import spotipy\n",
    "from spotipy.oauth2 import SpotifyClientCredentials #To access authorised Spotify data"
   ]
  },
  {
   "cell_type": "code",
   "execution_count": null,
   "metadata": {},
   "outputs": [],
   "source": [
    "client_id= \"\"\n",
    "client_secret= \"\"\n",
    "\n",
    "client_credentials_manager = SpotifyClientCredentials(client_id=client_id, client_secret=client_secret)\n",
    "\n",
    "# spotify object to access API\n",
    "sp = spotipy.Spotify(client_credentials_manager=client_credentials_manager)\n",
    "\n",
    "try:\n",
    "    user = sp.user('')\n",
    "    print('Success!')\n",
    "    pp.pprint(user)\n",
    "except:\n",
    "    print('Connection unsuccessfull')"
   ]
  },
  {
   "cell_type": "markdown",
   "metadata": {},
   "source": [
    "# Simple Song"
   ]
  },
  {
   "cell_type": "code",
   "execution_count": 3,
   "metadata": {},
   "outputs": [
    {
     "data": {
      "text/html": [
       "<div>\n",
       "<style scoped>\n",
       "    .dataframe tbody tr th:only-of-type {\n",
       "        vertical-align: middle;\n",
       "    }\n",
       "\n",
       "    .dataframe tbody tr th {\n",
       "        vertical-align: top;\n",
       "    }\n",
       "\n",
       "    .dataframe thead th {\n",
       "        text-align: right;\n",
       "    }\n",
       "</style>\n",
       "<table border=\"1\" class=\"dataframe\">\n",
       "  <thead>\n",
       "    <tr style=\"text-align: right;\">\n",
       "      <th></th>\n",
       "      <th>danceability</th>\n",
       "      <th>energy</th>\n",
       "      <th>key</th>\n",
       "      <th>loudness</th>\n",
       "      <th>mode</th>\n",
       "      <th>speechiness</th>\n",
       "      <th>acousticness</th>\n",
       "      <th>instrumentalness</th>\n",
       "      <th>liveness</th>\n",
       "      <th>valence</th>\n",
       "      <th>tempo</th>\n",
       "      <th>type</th>\n",
       "      <th>id</th>\n",
       "      <th>uri</th>\n",
       "      <th>track_href</th>\n",
       "      <th>analysis_url</th>\n",
       "      <th>duration_ms</th>\n",
       "      <th>time_signature</th>\n",
       "    </tr>\n",
       "  </thead>\n",
       "  <tbody>\n",
       "    <tr>\n",
       "      <th>bask_case</th>\n",
       "      <td>0.442</td>\n",
       "      <td>0.943</td>\n",
       "      <td>3</td>\n",
       "      <td>-3.205</td>\n",
       "      <td>1</td>\n",
       "      <td>0.0602</td>\n",
       "      <td>0.00293</td>\n",
       "      <td>0.000009</td>\n",
       "      <td>0.091</td>\n",
       "      <td>0.781</td>\n",
       "      <td>85.064</td>\n",
       "      <td>audio_features</td>\n",
       "      <td>6L89mwZXSOwYl76YXfX13s</td>\n",
       "      <td>spotify:track:6L89mwZXSOwYl76YXfX13s</td>\n",
       "      <td>https://api.spotify.com/v1/tracks/6L89mwZXSOwY...</td>\n",
       "      <td>https://api.spotify.com/v1/audio-analysis/6L89...</td>\n",
       "      <td>181533</td>\n",
       "      <td>4</td>\n",
       "    </tr>\n",
       "  </tbody>\n",
       "</table>\n",
       "</div>"
      ],
      "text/plain": [
       "          danceability energy key loudness mode speechiness acousticness  \\\n",
       "bask_case        0.442  0.943   3   -3.205    1      0.0602      0.00293   \n",
       "\n",
       "          instrumentalness liveness valence   tempo            type  \\\n",
       "bask_case         0.000009    0.091   0.781  85.064  audio_features   \n",
       "\n",
       "                               id                                   uri  \\\n",
       "bask_case  6L89mwZXSOwYl76YXfX13s  spotify:track:6L89mwZXSOwYl76YXfX13s   \n",
       "\n",
       "                                                  track_href  \\\n",
       "bask_case  https://api.spotify.com/v1/tracks/6L89mwZXSOwY...   \n",
       "\n",
       "                                                analysis_url duration_ms  \\\n",
       "bask_case  https://api.spotify.com/v1/audio-analysis/6L89...      181533   \n",
       "\n",
       "          time_signature  \n",
       "bask_case              4  "
      ]
     },
     "execution_count": 3,
     "metadata": {},
     "output_type": "execute_result"
    }
   ],
   "source": [
    "track_1 = pd.DataFrame(sp.audio_features('6L89mwZXSOwYl76YXfX13s')).T\n",
    "track_1.columns = ['bask_case']\n",
    "track_1.T"
   ]
  },
  {
   "cell_type": "markdown",
   "metadata": {},
   "source": [
    "## Functions"
   ]
  },
  {
   "cell_type": "code",
   "execution_count": 4,
   "metadata": {},
   "outputs": [],
   "source": [
    "def get_playlist(playlist_id):\n",
    "    # Define Playlist\n",
    "    dic = sp.playlist_tracks(playlist_id)\n",
    "\n",
    "    # Set up empty listsa\n",
    "    artists = []\n",
    "    track_name = []\n",
    "    track_id = []\n",
    "    track_duration = []\n",
    "    track_popularity = []\n",
    "\n",
    "    # Parse to dictionary\n",
    "    for track in dic['items']:\n",
    "        artists.append(track['track']['artists'][0]['name'])\n",
    "        track_name.append(track['track']['name'])\n",
    "        track_id.append(track['track']['id'])\n",
    "        track_duration.append(track['track']['duration_ms'])\n",
    "        track_popularity.append(track['track']['popularity'])\n",
    "\n",
    "    # Create pandas DataFrame\n",
    "    playlist = {\n",
    "      'track_name' : track_name,\n",
    "      'artist' : artists,\n",
    "      'track_id' : track_id,\n",
    "      'track_duration' : track_duration,\n",
    "      'track_popularity' : track_popularity\n",
    "    }\n",
    "\n",
    "    return pd.DataFrame(playlist)"
   ]
  },
  {
   "cell_type": "code",
   "execution_count": 5,
   "metadata": {},
   "outputs": [],
   "source": [
    "def get_features(dataframe):\n",
    "    # Define empty lists\n",
    "    acousticness = []\n",
    "    danceability = []\n",
    "    energy = []\n",
    "    instrumentalness = []\n",
    "    liveness = []\n",
    "    loudness = []\n",
    "    speechiness = []\n",
    "    tempo = []\n",
    "    valence = []\n",
    "\n",
    "    for index, row in dataframe.iterrows():\n",
    "\n",
    "        # Get track id\n",
    "        idx = row['track_id']\n",
    "\n",
    "        # Get corresponding features\n",
    "        features = sp.audio_features(str(idx))\n",
    "\n",
    "        acousticness.append(features[0]['acousticness'])\n",
    "        danceability.append(features[0]['danceability'])\n",
    "        energy.append(features[0]['energy'])\n",
    "        instrumentalness.append(features[0]['instrumentalness'])\n",
    "        liveness.append(features[0]['liveness'])\n",
    "        loudness.append(features[0]['loudness'])\n",
    "        speechiness.append(features[0]['speechiness'])\n",
    "        tempo.append(features[0]['tempo'])\n",
    "        valence.append(features[0]['valence'])\n",
    "\n",
    "    # Append the extracted infos to a new dataset\n",
    "\n",
    "    output = dataframe.copy()\n",
    "\n",
    "    output['acousticness'] = acousticness\n",
    "    output['danceability'] = danceability\n",
    "    output['energy'] = energy\n",
    "    output['instrumentalness'] = instrumentalness\n",
    "    output['liveness'] = liveness\n",
    "    output['loudness'] = loudness\n",
    "    output['speechiness'] = speechiness\n",
    "    output['tempo'] = tempo\n",
    "    output['valence'] = valence\n",
    "\n",
    "    return output"
   ]
  },
  {
   "cell_type": "markdown",
   "metadata": {},
   "source": [
    "### Recap\n",
    "\n",
    "We created two functions `get_playlist` and `get_features` which allow us to extract all needed informations of a given spotify-playlist.\n",
    "\n",
    "**Usage:**\n",
    "\n",
    "\n",
    "1.   *get_playlist*:\n",
    "      \n",
    "      ```playlist = get_playlist('PLAYLIST_ID')```\n",
    "\n",
    "2.   *get_features*:\n",
    "\n",
    "      ```track_features = get_features(playlist)``` \n",
    "\n"
   ]
  },
  {
   "cell_type": "code",
   "execution_count": 6,
   "metadata": {},
   "outputs": [],
   "source": [
    "def get_track_informations(playlist_id):\n",
    "    playlist = get_playlist(playlist_id)\n",
    "    return get_features(playlist)"
   ]
  },
  {
   "cell_type": "markdown",
   "metadata": {},
   "source": [
    "## Extract Data\n",
    "\n",
    "As we have now functions which make it easy for us to exract features from as many playlists as we want, we will try to get a comparable dataset as we used for our own songs.\n",
    "\n",
    "Our own dataset consits of:\n",
    "\n",
    "* 311 songs in total\n",
    "    * 37 Classic songs\n",
    "    * 60 Hardstyle songs\n",
    "    * 80 house songs\n",
    "    * 134 punk songs\n",
    "    \n",
    "The goal is to create a dataset with a comparable distribution.\n",
    "\n",
    "* Hardstyle - [Link](spotify:playlist:3bGSAHGYFEDxyEj7uXe0qq)  \n",
    "**50 Songs**\n",
    "* Punk - [Link](spotify:playlist:37i9dQZF1DXd6tJtr4qeot)  \n",
    "**150 Songs**\n",
    "* Classic - [Link](spotify:playlist:37i9dQZF1DWWEJlAGA9gs0)  \n",
    "**30 songs**\n",
    "* House - [Link](spotify:playlist:2otQLmbi8QWHjDfq3eL0DC)  \n",
    "**60 songs**"
   ]
  },
  {
   "cell_type": "code",
   "execution_count": 7,
   "metadata": {},
   "outputs": [],
   "source": [
    "hardstyle = get_track_informations('3bGSAHGYFEDxyEj7uXe0qq')"
   ]
  },
  {
   "cell_type": "code",
   "execution_count": 8,
   "metadata": {},
   "outputs": [
    {
     "data": {
      "text/html": [
       "<div>\n",
       "<style scoped>\n",
       "    .dataframe tbody tr th:only-of-type {\n",
       "        vertical-align: middle;\n",
       "    }\n",
       "\n",
       "    .dataframe tbody tr th {\n",
       "        vertical-align: top;\n",
       "    }\n",
       "\n",
       "    .dataframe thead th {\n",
       "        text-align: right;\n",
       "    }\n",
       "</style>\n",
       "<table border=\"1\" class=\"dataframe\">\n",
       "  <thead>\n",
       "    <tr style=\"text-align: right;\">\n",
       "      <th></th>\n",
       "      <th>track_name</th>\n",
       "      <th>artist</th>\n",
       "      <th>track_id</th>\n",
       "      <th>track_duration</th>\n",
       "      <th>track_popularity</th>\n",
       "      <th>acousticness</th>\n",
       "      <th>danceability</th>\n",
       "      <th>energy</th>\n",
       "      <th>instrumentalness</th>\n",
       "      <th>liveness</th>\n",
       "      <th>loudness</th>\n",
       "      <th>speechiness</th>\n",
       "      <th>tempo</th>\n",
       "      <th>valence</th>\n",
       "    </tr>\n",
       "  </thead>\n",
       "  <tbody>\n",
       "    <tr>\n",
       "      <th>0</th>\n",
       "      <td>My Beautiful Fantasy</td>\n",
       "      <td>Phuture Noize</td>\n",
       "      <td>1a3M9MU7mmhQerLzHSGD3w</td>\n",
       "      <td>192014</td>\n",
       "      <td>60</td>\n",
       "      <td>0.1320</td>\n",
       "      <td>0.319</td>\n",
       "      <td>0.865</td>\n",
       "      <td>0.0</td>\n",
       "      <td>0.152</td>\n",
       "      <td>-2.528</td>\n",
       "      <td>0.0415</td>\n",
       "      <td>155.174</td>\n",
       "      <td>0.0845</td>\n",
       "    </tr>\n",
       "    <tr>\n",
       "      <th>1</th>\n",
       "      <td>Feel It!</td>\n",
       "      <td>D-Block &amp; S-te-Fan</td>\n",
       "      <td>01xdiGuSuIf5qZulm1uqkY</td>\n",
       "      <td>236903</td>\n",
       "      <td>63</td>\n",
       "      <td>0.0191</td>\n",
       "      <td>0.459</td>\n",
       "      <td>0.941</td>\n",
       "      <td>0.0</td>\n",
       "      <td>0.371</td>\n",
       "      <td>-2.053</td>\n",
       "      <td>0.0777</td>\n",
       "      <td>155.023</td>\n",
       "      <td>0.3990</td>\n",
       "    </tr>\n",
       "  </tbody>\n",
       "</table>\n",
       "</div>"
      ],
      "text/plain": [
       "             track_name              artist                track_id  \\\n",
       "0  My Beautiful Fantasy       Phuture Noize  1a3M9MU7mmhQerLzHSGD3w   \n",
       "1              Feel It!  D-Block & S-te-Fan  01xdiGuSuIf5qZulm1uqkY   \n",
       "\n",
       "   track_duration  track_popularity  acousticness  danceability  energy  \\\n",
       "0          192014                60        0.1320         0.319   0.865   \n",
       "1          236903                63        0.0191         0.459   0.941   \n",
       "\n",
       "   instrumentalness  liveness  loudness  speechiness    tempo  valence  \n",
       "0               0.0     0.152    -2.528       0.0415  155.174   0.0845  \n",
       "1               0.0     0.371    -2.053       0.0777  155.023   0.3990  "
      ]
     },
     "execution_count": 8,
     "metadata": {},
     "output_type": "execute_result"
    }
   ],
   "source": [
    "hardstyle.head(2)"
   ]
  },
  {
   "cell_type": "code",
   "execution_count": 12,
   "metadata": {},
   "outputs": [],
   "source": [
    "punk = get_track_informations('')"
   ]
  },
  {
   "cell_type": "code",
   "execution_count": null,
   "metadata": {},
   "outputs": [],
   "source": [
    "classic = get_track_informations('')"
   ]
  },
  {
   "cell_type": "code",
   "execution_count": 21,
   "metadata": {},
   "outputs": [],
   "source": [
    "house = get_track_informations('')"
   ]
  },
  {
   "cell_type": "code",
   "execution_count": 25,
   "metadata": {},
   "outputs": [],
   "source": [
    "hardstyle['genre'] = 0\n",
    "classic['genre'] = 1\n",
    "punk['genre'] = 2\n",
    "house['genre'] = 3"
   ]
  },
  {
   "cell_type": "code",
   "execution_count": 26,
   "metadata": {},
   "outputs": [],
   "source": [
    "dfs = [hardstyle, classic, punk, house]"
   ]
  },
  {
   "cell_type": "code",
   "execution_count": 29,
   "metadata": {},
   "outputs": [],
   "source": [
    "features = pd.concat(dfs, axis=0)"
   ]
  },
  {
   "cell_type": "code",
   "execution_count": null,
   "metadata": {},
   "outputs": [],
   "source": [
    "features.head()"
   ]
  },
  {
   "cell_type": "code",
   "execution_count": 31,
   "metadata": {},
   "outputs": [],
   "source": [
    "features.to_csv('./data/spotify_features.csv')"
   ]
  },
  {
   "cell_type": "code",
   "execution_count": null,
   "metadata": {},
   "outputs": [],
   "source": []
  }
 ],
 "metadata": {
  "kernelspec": {
   "display_name": "Python 3",
   "language": "python",
   "name": "python3"
  },
  "language_info": {
   "codemirror_mode": {
    "name": "ipython",
    "version": 3
   },
   "file_extension": ".py",
   "mimetype": "text/x-python",
   "name": "python",
   "nbconvert_exporter": "python",
   "pygments_lexer": "ipython3",
   "version": "3.7.9"
  }
 },
 "nbformat": 4,
 "nbformat_minor": 4
}
