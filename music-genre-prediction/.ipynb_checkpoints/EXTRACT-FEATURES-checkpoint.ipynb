{
 "cells": [
  {
   "cell_type": "code",
   "execution_count": 1,
   "metadata": {},
   "outputs": [],
   "source": [
    "import pandas as pd\n",
    "import seaborn as sns\n",
    "import numpy as np\n",
    "import os\n",
    "import librosa as lb\n",
    "import glob\n",
    "from pprint import pprint as pp\n",
    "import scipy\n",
    "import matplotlib.pyplot as plt\n",
    "# plt.rcParams[\"figure.figsize\"] = (14,5)\n",
    "\n",
    "from  more_itertools import unique_everseen\n",
    "from collections import OrderedDict\n",
    "# import soundfile as sf\n",
    "# import difflib\n",
    "import statistics\n",
    "import itertools\n",
    "from scipy.stats import skew\n",
    "from scipy.stats import kurtosis"
   ]
  },
  {
   "cell_type": "code",
   "execution_count": 7,
   "metadata": {},
   "outputs": [],
   "source": [
    "data ={}\n",
    "name_list =[]\n",
    "path = './songs/'\n",
    "\n",
    "files = [f for f in glob.glob(path + \"*.wav\", recursive=True)]\n",
    "\n",
    "for file in files:\n",
    "    name = file.split('/')[-1].split('.')[0]\n",
    "    y, sr = lb.load(file, sr=44100)\n",
    "    data[name] = {'y' : y, 'sr': sr}"
   ]
  },
  {
   "cell_type": "code",
   "execution_count": 8,
   "metadata": {},
   "outputs": [],
   "source": [
    "def get_features_mean(song, sr, hop_length, n_fft):\n",
    "    # try:\n",
    "    print('extracting features...')\n",
    "    y_harmonic, y_percussive = lb.effects.hpss(song)  # split song into harmonic and percussive parts\n",
    "    stft_harmonic = lb.core.stft(y_harmonic, n_fft=n_fft, hop_length=hop_length)  # Compute power spectrogram.\n",
    "    stft_percussive = lb.core.stft(y_percussive, n_fft=n_fft, hop_length=hop_length)  # Compute power spectrogram.\n",
    "\n",
    "    rmsH = np.sqrt(np.mean(np.abs(lb.feature.rms(S=stft_harmonic)) ** 2, axis=0, keepdims=True))\n",
    "    rmsH_a = np.mean(rmsH)\n",
    "    rmsH_std = np.std(rmsH)\n",
    "    rmsH_skew = skew(np.mean(rmsH, axis=0))\n",
    "    rmsH_kurtosis = kurtosis(np.mean(rmsH, axis=0), fisher=True, bias=True)\n",
    "\n",
    "    rmsP = np.sqrt(np.mean(np.abs(lb.feature.rms(S=stft_percussive)) ** 2, axis=0, keepdims=True))\n",
    "    rmsP_a = np.mean(rmsP)\n",
    "    rmsP_std = np.std(rmsP)\n",
    "    rmsP_skew = skew(np.mean(rmsP, axis=0))\n",
    "    rmsP_kurtosis = kurtosis(np.mean(rmsP, axis=0), fisher=True, bias=True)\n",
    "\n",
    "    centroid = lb.feature.spectral_centroid(song, sr, n_fft=n_fft,\n",
    "                                            hop_length=hop_length)  # Compute the spectral centroid.\n",
    "    centroid_a = np.mean(centroid)\n",
    "    centroid_std = np.std(centroid)\n",
    "\n",
    "    bw = lb.feature.spectral_bandwidth(song, sr, n_fft=n_fft,\n",
    "                                       hop_length=hop_length)  # Compute p’th-order spectral bandwidth:\n",
    "    bw_a = np.mean(bw)\n",
    "    bw_std = np.std(bw)\n",
    "\n",
    "    contrast = lb.feature.spectral_contrast(song, sr, n_fft=n_fft,\n",
    "                                            hop_length=hop_length)  # Compute spectral contrast [R16]\n",
    "    contrast_a = np.mean(contrast)\n",
    "    contrast_std = np.std(contrast)\n",
    "\n",
    "    polyfeat = lb.feature.poly_features(y_harmonic, sr, n_fft=n_fft,\n",
    "                                        hop_length=hop_length)  # Get coefficients of fitting an nth-order polynomial to the columns of a spectrogram.\n",
    "    polyfeat_a = np.mean(polyfeat[0])\n",
    "    polyfeat_std = np.std(polyfeat[0])\n",
    "\n",
    "    tonnetz = lb.feature.tonnetz(lb.effects.harmonic(y_harmonic),\n",
    "                                 sr)  # Computes the tonal centroid features (tonnetz), following the method of [R17].\n",
    "    tonnetz_a = np.mean(tonnetz)\n",
    "    tonnetz_std = np.std(tonnetz)\n",
    "\n",
    "    zcr = lb.feature.zero_crossing_rate(song, sr, hop_length=hop_length)  # zero crossing rate\n",
    "    zcr_a = np.mean(zcr)\n",
    "    zcr_std = np.std(zcr)\n",
    "\n",
    "    onset_env = lb.onset.onset_strength(y_percussive, sr=sr)\n",
    "    onset_a = np.mean(onset_env)\n",
    "    onset_std = np.std(onset_env)\n",
    "\n",
    "    D = lb.stft(song)\n",
    "    times = lb.frames_to_time(np.arange(D.shape[1]))  # not returned, but could be if you want to plot things as a time series\n",
    "\n",
    "    bpm, beats = lb.beat.beat_track(y=y_percussive, sr=sr, onset_envelope=onset_env, units='time')\n",
    "    beats_a = np.mean(beats)\n",
    "    beats_std = np.std(beats)\n",
    "\n",
    "    features_dict = OrderedDict({'rmseP_a': rmsP_a, 'rmseP_std': rmsP_std, 'rmseH_a': rmsH_a, 'rmseH_std': rmsH_std,\n",
    "                                 'centroid_a': centroid_a, 'centroid_std': centroid_std, 'bw_a': bw_a, 'bw_std': bw_std,\n",
    "                                 'contrast_a': contrast_a, 'contrast_std': contrast_std, 'polyfeat_a': polyfeat_a,\n",
    "                                 'polyfeat_std': polyfeat_std, 'tonnetz_a': tonnetz_a, 'tonnetz_std': tonnetz_std,\n",
    "                                 'zcr_a': zcr_a, 'zcr_std': zcr_std, 'onset_a': onset_a, 'onset_std': onset_std,\n",
    "                                 'bpm': bpm, 'rmseP_skew': rmsP_skew, 'rmseP_kurtosis': rmsP_kurtosis,\n",
    "                                 'rmseH_skew': rmsH_skew, 'rmseH_kurtosis': rmsH_kurtosis, 'beats_a':beats_a,\n",
    "                                 'beats_std':beats_std})\n",
    "\n",
    "    # combine_features = {**features_dict, **bands_dict}\n",
    "    print('features extracted successfully')\n",
    "    return features_dict"
   ]
  },
  {
   "cell_type": "code",
   "execution_count": 9,
   "metadata": {},
   "outputs": [
    {
     "data": {
      "text/plain": [
       "dict_keys(['0_house', '0_punk', '0_classic', '0_hardstyle'])"
      ]
     },
     "execution_count": 9,
     "metadata": {},
     "output_type": "execute_result"
    }
   ],
   "source": [
    "data.keys()"
   ]
  },
  {
   "cell_type": "code",
   "execution_count": 10,
   "metadata": {},
   "outputs": [
    {
     "name": "stdout",
     "output_type": "stream",
     "text": [
      "extracting features...\n",
      "features extracted successfully\n",
      "finish\n"
     ]
    }
   ],
   "source": [
    "res = get_features_mean(data['0_house']['y'], data['0_house']['sr'], hop_length=512, n_fft=2048)\n",
    "print('finish')"
   ]
  },
  {
   "cell_type": "code",
   "execution_count": 11,
   "metadata": {},
   "outputs": [
    {
     "data": {
      "text/plain": [
       "OrderedDict([('rmseP_a', 0.03493496345047862),\n",
       "             ('rmseP_std', 0.028009404957561445),\n",
       "             ('rmseH_a', 0.1302421034021926),\n",
       "             ('rmseH_std', 0.0900995213616632),\n",
       "             ('centroid_a', 2640.2656095645175),\n",
       "             ('centroid_std', 1526.926171527276),\n",
       "             ('bw_a', 3113.6905856423964),\n",
       "             ('bw_std', 1365.5514240291257),\n",
       "             ('contrast_a', 18.815819675422635),\n",
       "             ('contrast_std', 11.103575918384696),\n",
       "             ('polyfeat_a', -0.00019204193177112765),\n",
       "             ('polyfeat_std', 9.556297070831763e-05),\n",
       "             ('tonnetz_a', 0.022138128162436318),\n",
       "             ('tonnetz_std', 0.12800464669845535),\n",
       "             ('zcr_a', 0.04860909178911409),\n",
       "             ('zcr_std', 0.03019266369063947),\n",
       "             ('onset_a', 1.6842921),\n",
       "             ('onset_std', 2.4423685),\n",
       "             ('bpm', 123.046875),\n",
       "             ('rmseP_skew', 1.4477788254163841),\n",
       "             ('rmseP_kurtosis', 2.6896722608796226),\n",
       "             ('rmseH_skew', 0.2353354742325292),\n",
       "             ('rmseH_kurtosis', -1.4841213160833489),\n",
       "             ('beats_a', 94.11973440316298),\n",
       "             ('beats_std', 54.418783673052566)])"
      ]
     },
     "execution_count": 11,
     "metadata": {},
     "output_type": "execute_result"
    }
   ],
   "source": [
    "res"
   ]
  },
  {
   "cell_type": "code",
   "execution_count": null,
   "metadata": {},
   "outputs": [],
   "source": []
  }
 ],
 "metadata": {
  "kernelspec": {
   "display_name": "signal-processing",
   "language": "python",
   "name": "signal-processing"
  },
  "language_info": {
   "codemirror_mode": {
    "name": "ipython",
    "version": 3
   },
   "file_extension": ".py",
   "mimetype": "text/x-python",
   "name": "python",
   "nbconvert_exporter": "python",
   "pygments_lexer": "ipython3",
   "version": "3.7.9"
  }
 },
 "nbformat": 4,
 "nbformat_minor": 4
}
